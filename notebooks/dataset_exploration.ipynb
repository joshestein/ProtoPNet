{
 "cells": [
  {
   "cell_type": "code",
   "id": "initial_id",
   "metadata": {
    "collapsed": true,
    "ExecuteTime": {
     "end_time": "2024-05-09T23:33:06.271597Z",
     "start_time": "2024-05-09T23:33:04.642412Z"
    }
   },
   "source": [
    "from pathlib import Path\n",
    "\n",
    "from torch.utils.data import DataLoader\n",
    "from torchvision import transforms\n",
    "\n",
    "from src.data.cub_dataset import CUBDataset\n",
    "\n",
    "# This should be run from the root dir, containing `src` and `data` folders\n",
    "data_dir = Path().resolve().parent / \"data/CUB-200-2011/CUB_200_2011/cub200_cropped\"\n",
    "preprocess = transforms.Compose([\n",
    "    transforms.CenterCrop(224),\n",
    "    transforms.ToTensor(),\n",
    "    transforms.Normalize(mean=[0.485, 0.456, 0.406], std=[0.229, 0.224, 0.225]),\n",
    "])\n",
    "train_data = CUBDataset(data_dir, train=True, transform=preprocess)\n",
    "test_data = CUBDataset(data_dir, train=True, transform=preprocess)\n",
    "train_dataloader = DataLoader(train_data, batch_size=2, shuffle=True)"
   ],
   "outputs": [],
   "execution_count": 1
  },
  {
   "metadata": {
    "ExecuteTime": {
     "end_time": "2024-05-09T23:33:11.201631Z",
     "start_time": "2024-05-09T23:33:11.181957Z"
    }
   },
   "cell_type": "code",
   "source": "next(iter(train_dataloader)).shape",
   "id": "dc50d0556ce7c7f1",
   "outputs": [
    {
     "data": {
      "text/plain": [
       "torch.Size([2, 3, 224, 224])"
      ]
     },
     "execution_count": 3,
     "metadata": {},
     "output_type": "execute_result"
    }
   ],
   "execution_count": 3
  },
  {
   "metadata": {
    "ExecuteTime": {
     "end_time": "2024-05-09T23:33:06.303297Z",
     "start_time": "2024-05-09T23:33:06.301700Z"
    }
   },
   "cell_type": "code",
   "source": "",
   "id": "112f9f672482906a",
   "outputs": [],
   "execution_count": 2
  }
 ],
 "metadata": {
  "kernelspec": {
   "display_name": "Python 3",
   "language": "python",
   "name": "python3"
  },
  "language_info": {
   "codemirror_mode": {
    "name": "ipython",
    "version": 2
   },
   "file_extension": ".py",
   "mimetype": "text/x-python",
   "name": "python",
   "nbconvert_exporter": "python",
   "pygments_lexer": "ipython2",
   "version": "2.7.6"
  }
 },
 "nbformat": 4,
 "nbformat_minor": 5
}
